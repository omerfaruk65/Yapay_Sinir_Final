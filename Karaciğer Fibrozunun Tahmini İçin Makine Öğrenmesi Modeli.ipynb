{
 "cells": [
  {
   "cell_type": "markdown",
   "metadata": {
    "ExecuteTime": {
     "end_time": "2021-01-23T14:07:59.350307Z",
     "start_time": "2021-01-23T14:07:59.310336Z"
    }
   },
   "source": [
    "# Karaciğer Fibrozunun Tahmini İçin Makine Öğrenmesi Modeli\n"
   ]
  },
  {
   "cell_type": "markdown",
   "metadata": {
    "ExecuteTime": {
     "end_time": "2021-01-23T14:07:59.975921Z",
     "start_time": "2021-01-23T14:07:59.959931Z"
    }
   },
   "source": [
    "## Veri Setine Genel Bakış"
   ]
  },
  {
   "cell_type": "code",
   "execution_count": 52,
   "metadata": {
    "ExecuteTime": {
     "end_time": "2021-01-27T18:29:30.238495Z",
     "start_time": "2021-01-27T18:29:30.148734Z"
    }
   },
   "outputs": [
    {
     "name": "stdout",
     "output_type": "stream",
     "text": [
      "   Age   Gender  BMI  Fever  Nausea/Vomting  Headache   Diarrhea   \\\n",
      "0    56       1   35      2               1          1          1   \n",
      "1    46       1   29      1               2          2          1   \n",
      "2    57       1   33      2               2          2          2   \n",
      "3    49       2   33      1               2          1          2   \n",
      "4    59       1   32      1               1          2          1   \n",
      "\n",
      "   Fatigue & generalized bone ache   Jaundice   Epigastric pain   \\\n",
      "0                                 2          2                 2   \n",
      "1                                 2          2                 1   \n",
      "2                                 1          1                 1   \n",
      "3                                 1          2                 1   \n",
      "4                                 2          2                 2   \n",
      "\n",
      "               ...               ALT 36  ALT 48  ALT after 24 w  RNA Base  \\\n",
      "0              ...                    5       5               5    655330   \n",
      "1              ...                   57     123              44     40620   \n",
      "2              ...                    5       5               5    571148   \n",
      "3              ...                   48      77              33   1041941   \n",
      "4              ...                   94      90              30    660410   \n",
      "\n",
      "    RNA 4   RNA 12  RNA EOT  RNA EF  Baseline histological Grading  \\\n",
      "0  634536   288194        5       5                             13   \n",
      "1  538635   637056   336804   31085                              4   \n",
      "2  661346        5   735945  558829                              4   \n",
      "3  449939   585688   744463  582301                             10   \n",
      "4  738756  3731527   338946  242861                             11   \n",
      "\n",
      "   Baselinehistological staging  \n",
      "0                             2  \n",
      "1                             2  \n",
      "2                             4  \n",
      "3                             3  \n",
      "4                             1  \n",
      "\n",
      "[5 rows x 29 columns]\n"
     ]
    }
   ],
   "source": [
    "import pandas as pd\n",
    "import numpy as np \n",
    "\n",
    "df=pd.read_csv(\"HCV-Egy-Data.csv\")\n",
    "print(df.head())"
   ]
  },
  {
   "cell_type": "code",
   "execution_count": 53,
   "metadata": {
    "ExecuteTime": {
     "end_time": "2021-01-27T18:29:30.387097Z",
     "start_time": "2021-01-27T18:29:30.369144Z"
    }
   },
   "outputs": [
    {
     "name": "stdout",
     "output_type": "stream",
     "text": [
      "<class 'pandas.core.frame.DataFrame'>\n",
      "RangeIndex: 1385 entries, 0 to 1384\n",
      "Data columns (total 29 columns):\n",
      "Age                                 1385 non-null int64\n",
      "Gender                              1385 non-null int64\n",
      "BMI                                 1385 non-null int64\n",
      "Fever                               1385 non-null int64\n",
      "Nausea/Vomting                      1385 non-null int64\n",
      "Headache                            1385 non-null int64\n",
      "Diarrhea                            1385 non-null int64\n",
      "Fatigue & generalized bone ache     1385 non-null int64\n",
      "Jaundice                            1385 non-null int64\n",
      "Epigastric pain                     1385 non-null int64\n",
      "WBC                                 1385 non-null int64\n",
      "RBC                                 1385 non-null float64\n",
      "HGB                                 1385 non-null int64\n",
      "Plat                                1385 non-null float64\n",
      "AST 1                               1385 non-null int64\n",
      "ALT 1                               1385 non-null int64\n",
      "ALT4                                1385 non-null float64\n",
      "ALT 12                              1385 non-null int64\n",
      "ALT 24                              1385 non-null int64\n",
      "ALT 36                              1385 non-null int64\n",
      "ALT 48                              1385 non-null int64\n",
      "ALT after 24 w                      1385 non-null int64\n",
      "RNA Base                            1385 non-null int64\n",
      "RNA 4                               1385 non-null int64\n",
      "RNA 12                              1385 non-null int64\n",
      "RNA EOT                             1385 non-null int64\n",
      "RNA EF                              1385 non-null int64\n",
      "Baseline histological Grading       1385 non-null int64\n",
      "Baselinehistological staging        1385 non-null int64\n",
      "dtypes: float64(3), int64(26)\n",
      "memory usage: 313.9 KB\n"
     ]
    }
   ],
   "source": [
    "df.info()"
   ]
  },
  {
   "cell_type": "code",
   "execution_count": 54,
   "metadata": {
    "ExecuteTime": {
     "end_time": "2021-01-27T18:29:30.689036Z",
     "start_time": "2021-01-27T18:29:30.686046Z"
    }
   },
   "outputs": [],
   "source": [
    "# Veri Seti 1385 veriye sahip ve herhangi bir kayıp veri bulunmamakta\n"
   ]
  },
  {
   "cell_type": "code",
   "execution_count": 55,
   "metadata": {
    "ExecuteTime": {
     "end_time": "2021-01-27T18:29:31.184712Z",
     "start_time": "2021-01-27T18:29:31.176732Z"
    }
   },
   "outputs": [
    {
     "data": {
      "text/plain": [
       "Age                                   int64\n",
       "Gender                                int64\n",
       "BMI                                   int64\n",
       "Fever                                 int64\n",
       "Nausea/Vomting                        int64\n",
       "Headache                              int64\n",
       "Diarrhea                              int64\n",
       "Fatigue & generalized bone ache       int64\n",
       "Jaundice                              int64\n",
       "Epigastric pain                       int64\n",
       "WBC                                   int64\n",
       "RBC                                 float64\n",
       "HGB                                   int64\n",
       "Plat                                float64\n",
       "AST 1                                 int64\n",
       "ALT 1                                 int64\n",
       "ALT4                                float64\n",
       "ALT 12                                int64\n",
       "ALT 24                                int64\n",
       "ALT 36                                int64\n",
       "ALT 48                                int64\n",
       "ALT after 24 w                        int64\n",
       "RNA Base                              int64\n",
       "RNA 4                                 int64\n",
       "RNA 12                                int64\n",
       "RNA EOT                               int64\n",
       "RNA EF                                int64\n",
       "Baseline histological Grading         int64\n",
       "Baselinehistological staging          int64\n",
       "dtype: object"
      ]
     },
     "execution_count": 55,
     "metadata": {},
     "output_type": "execute_result"
    }
   ],
   "source": [
    "df.dtypes"
   ]
  },
  {
   "cell_type": "code",
   "execution_count": 56,
   "metadata": {
    "ExecuteTime": {
     "end_time": "2021-01-27T18:29:31.696934Z",
     "start_time": "2021-01-27T18:29:31.691948Z"
    }
   },
   "outputs": [],
   "source": [
    "#Veri tiplerine bakıldığında bütün değerler int veya float olarak tanımlı"
   ]
  },
  {
   "cell_type": "code",
   "execution_count": 57,
   "metadata": {
    "ExecuteTime": {
     "end_time": "2021-01-27T18:29:32.211508Z",
     "start_time": "2021-01-27T18:29:32.065389Z"
    }
   },
   "outputs": [
    {
     "data": {
      "text/html": [
       "<div>\n",
       "<style scoped>\n",
       "    .dataframe tbody tr th:only-of-type {\n",
       "        vertical-align: middle;\n",
       "    }\n",
       "\n",
       "    .dataframe tbody tr th {\n",
       "        vertical-align: top;\n",
       "    }\n",
       "\n",
       "    .dataframe thead th {\n",
       "        text-align: right;\n",
       "    }\n",
       "</style>\n",
       "<table border=\"1\" class=\"dataframe\">\n",
       "  <thead>\n",
       "    <tr style=\"text-align: right;\">\n",
       "      <th></th>\n",
       "      <th>Age</th>\n",
       "      <th>Gender</th>\n",
       "      <th>BMI</th>\n",
       "      <th>Fever</th>\n",
       "      <th>Nausea/Vomting</th>\n",
       "      <th>Headache</th>\n",
       "      <th>Diarrhea</th>\n",
       "      <th>Fatigue &amp; generalized bone ache</th>\n",
       "      <th>Jaundice</th>\n",
       "      <th>Epigastric pain</th>\n",
       "      <th>...</th>\n",
       "      <th>ALT 36</th>\n",
       "      <th>ALT 48</th>\n",
       "      <th>ALT after 24 w</th>\n",
       "      <th>RNA Base</th>\n",
       "      <th>RNA 4</th>\n",
       "      <th>RNA 12</th>\n",
       "      <th>RNA EOT</th>\n",
       "      <th>RNA EF</th>\n",
       "      <th>Baseline histological Grading</th>\n",
       "      <th>Baselinehistological staging</th>\n",
       "    </tr>\n",
       "  </thead>\n",
       "  <tbody>\n",
       "    <tr>\n",
       "      <th>count</th>\n",
       "      <td>1385.000000</td>\n",
       "      <td>1385.000000</td>\n",
       "      <td>1385.000000</td>\n",
       "      <td>1385.000000</td>\n",
       "      <td>1385.000000</td>\n",
       "      <td>1385.000000</td>\n",
       "      <td>1385.000000</td>\n",
       "      <td>1385.000000</td>\n",
       "      <td>1385.000000</td>\n",
       "      <td>1385.000000</td>\n",
       "      <td>...</td>\n",
       "      <td>1385.000000</td>\n",
       "      <td>1385.000000</td>\n",
       "      <td>1385.000000</td>\n",
       "      <td>1.385000e+03</td>\n",
       "      <td>1.385000e+03</td>\n",
       "      <td>1.385000e+03</td>\n",
       "      <td>1385.000000</td>\n",
       "      <td>1385.000000</td>\n",
       "      <td>1385.000000</td>\n",
       "      <td>1385.000000</td>\n",
       "    </tr>\n",
       "    <tr>\n",
       "      <th>mean</th>\n",
       "      <td>46.319134</td>\n",
       "      <td>1.489531</td>\n",
       "      <td>28.608664</td>\n",
       "      <td>1.515523</td>\n",
       "      <td>1.502527</td>\n",
       "      <td>1.496029</td>\n",
       "      <td>1.502527</td>\n",
       "      <td>1.498917</td>\n",
       "      <td>1.501083</td>\n",
       "      <td>1.503971</td>\n",
       "      <td>...</td>\n",
       "      <td>83.117690</td>\n",
       "      <td>83.629603</td>\n",
       "      <td>33.438267</td>\n",
       "      <td>5.909512e+05</td>\n",
       "      <td>6.008956e+05</td>\n",
       "      <td>2.887536e+05</td>\n",
       "      <td>287660.336462</td>\n",
       "      <td>291378.290975</td>\n",
       "      <td>9.761733</td>\n",
       "      <td>2.536462</td>\n",
       "    </tr>\n",
       "    <tr>\n",
       "      <th>std</th>\n",
       "      <td>8.781506</td>\n",
       "      <td>0.500071</td>\n",
       "      <td>4.076215</td>\n",
       "      <td>0.499939</td>\n",
       "      <td>0.500174</td>\n",
       "      <td>0.500165</td>\n",
       "      <td>0.500174</td>\n",
       "      <td>0.500179</td>\n",
       "      <td>0.500179</td>\n",
       "      <td>0.500165</td>\n",
       "      <td>...</td>\n",
       "      <td>26.399031</td>\n",
       "      <td>26.223955</td>\n",
       "      <td>7.073569</td>\n",
       "      <td>3.539354e+05</td>\n",
       "      <td>3.623151e+05</td>\n",
       "      <td>2.853507e+05</td>\n",
       "      <td>264559.525070</td>\n",
       "      <td>267700.691713</td>\n",
       "      <td>4.023896</td>\n",
       "      <td>1.121392</td>\n",
       "    </tr>\n",
       "    <tr>\n",
       "      <th>min</th>\n",
       "      <td>32.000000</td>\n",
       "      <td>1.000000</td>\n",
       "      <td>22.000000</td>\n",
       "      <td>1.000000</td>\n",
       "      <td>1.000000</td>\n",
       "      <td>1.000000</td>\n",
       "      <td>1.000000</td>\n",
       "      <td>1.000000</td>\n",
       "      <td>1.000000</td>\n",
       "      <td>1.000000</td>\n",
       "      <td>...</td>\n",
       "      <td>5.000000</td>\n",
       "      <td>5.000000</td>\n",
       "      <td>5.000000</td>\n",
       "      <td>1.100000e+01</td>\n",
       "      <td>5.000000e+00</td>\n",
       "      <td>5.000000e+00</td>\n",
       "      <td>5.000000</td>\n",
       "      <td>5.000000</td>\n",
       "      <td>3.000000</td>\n",
       "      <td>1.000000</td>\n",
       "    </tr>\n",
       "    <tr>\n",
       "      <th>25%</th>\n",
       "      <td>39.000000</td>\n",
       "      <td>1.000000</td>\n",
       "      <td>25.000000</td>\n",
       "      <td>1.000000</td>\n",
       "      <td>1.000000</td>\n",
       "      <td>1.000000</td>\n",
       "      <td>1.000000</td>\n",
       "      <td>1.000000</td>\n",
       "      <td>1.000000</td>\n",
       "      <td>1.000000</td>\n",
       "      <td>...</td>\n",
       "      <td>61.000000</td>\n",
       "      <td>61.000000</td>\n",
       "      <td>28.000000</td>\n",
       "      <td>2.692530e+05</td>\n",
       "      <td>2.708930e+05</td>\n",
       "      <td>5.000000e+00</td>\n",
       "      <td>5.000000</td>\n",
       "      <td>5.000000</td>\n",
       "      <td>6.000000</td>\n",
       "      <td>2.000000</td>\n",
       "    </tr>\n",
       "    <tr>\n",
       "      <th>50%</th>\n",
       "      <td>46.000000</td>\n",
       "      <td>1.000000</td>\n",
       "      <td>29.000000</td>\n",
       "      <td>2.000000</td>\n",
       "      <td>2.000000</td>\n",
       "      <td>1.000000</td>\n",
       "      <td>2.000000</td>\n",
       "      <td>1.000000</td>\n",
       "      <td>2.000000</td>\n",
       "      <td>2.000000</td>\n",
       "      <td>...</td>\n",
       "      <td>84.000000</td>\n",
       "      <td>83.000000</td>\n",
       "      <td>34.000000</td>\n",
       "      <td>5.931030e+05</td>\n",
       "      <td>5.978690e+05</td>\n",
       "      <td>2.343590e+05</td>\n",
       "      <td>251376.000000</td>\n",
       "      <td>244049.000000</td>\n",
       "      <td>10.000000</td>\n",
       "      <td>3.000000</td>\n",
       "    </tr>\n",
       "    <tr>\n",
       "      <th>75%</th>\n",
       "      <td>54.000000</td>\n",
       "      <td>2.000000</td>\n",
       "      <td>32.000000</td>\n",
       "      <td>2.000000</td>\n",
       "      <td>2.000000</td>\n",
       "      <td>2.000000</td>\n",
       "      <td>2.000000</td>\n",
       "      <td>2.000000</td>\n",
       "      <td>2.000000</td>\n",
       "      <td>2.000000</td>\n",
       "      <td>...</td>\n",
       "      <td>106.000000</td>\n",
       "      <td>106.000000</td>\n",
       "      <td>40.000000</td>\n",
       "      <td>8.867910e+05</td>\n",
       "      <td>9.090930e+05</td>\n",
       "      <td>5.248190e+05</td>\n",
       "      <td>517806.000000</td>\n",
       "      <td>527864.000000</td>\n",
       "      <td>13.000000</td>\n",
       "      <td>4.000000</td>\n",
       "    </tr>\n",
       "    <tr>\n",
       "      <th>max</th>\n",
       "      <td>61.000000</td>\n",
       "      <td>2.000000</td>\n",
       "      <td>35.000000</td>\n",
       "      <td>2.000000</td>\n",
       "      <td>2.000000</td>\n",
       "      <td>2.000000</td>\n",
       "      <td>2.000000</td>\n",
       "      <td>2.000000</td>\n",
       "      <td>2.000000</td>\n",
       "      <td>2.000000</td>\n",
       "      <td>...</td>\n",
       "      <td>128.000000</td>\n",
       "      <td>128.000000</td>\n",
       "      <td>45.000000</td>\n",
       "      <td>1.201086e+06</td>\n",
       "      <td>1.201715e+06</td>\n",
       "      <td>3.731527e+06</td>\n",
       "      <td>808450.000000</td>\n",
       "      <td>810333.000000</td>\n",
       "      <td>16.000000</td>\n",
       "      <td>4.000000</td>\n",
       "    </tr>\n",
       "  </tbody>\n",
       "</table>\n",
       "<p>8 rows × 29 columns</p>\n",
       "</div>"
      ],
      "text/plain": [
       "              Age        Gender          BMI        Fever  Nausea/Vomting  \\\n",
       "count  1385.000000  1385.000000  1385.000000  1385.000000     1385.000000   \n",
       "mean     46.319134     1.489531    28.608664     1.515523        1.502527   \n",
       "std       8.781506     0.500071     4.076215     0.499939        0.500174   \n",
       "min      32.000000     1.000000    22.000000     1.000000        1.000000   \n",
       "25%      39.000000     1.000000    25.000000     1.000000        1.000000   \n",
       "50%      46.000000     1.000000    29.000000     2.000000        2.000000   \n",
       "75%      54.000000     2.000000    32.000000     2.000000        2.000000   \n",
       "max      61.000000     2.000000    35.000000     2.000000        2.000000   \n",
       "\n",
       "         Headache     Diarrhea   Fatigue & generalized bone ache   \\\n",
       "count  1385.000000  1385.000000                       1385.000000   \n",
       "mean      1.496029     1.502527                          1.498917   \n",
       "std       0.500165     0.500174                          0.500179   \n",
       "min       1.000000     1.000000                          1.000000   \n",
       "25%       1.000000     1.000000                          1.000000   \n",
       "50%       1.000000     2.000000                          1.000000   \n",
       "75%       2.000000     2.000000                          2.000000   \n",
       "max       2.000000     2.000000                          2.000000   \n",
       "\n",
       "         Jaundice   Epigastric pain               ...               \\\n",
       "count  1385.000000       1385.000000              ...                \n",
       "mean      1.501083          1.503971              ...                \n",
       "std       0.500179          0.500165              ...                \n",
       "min       1.000000          1.000000              ...                \n",
       "25%       1.000000          1.000000              ...                \n",
       "50%       2.000000          2.000000              ...                \n",
       "75%       2.000000          2.000000              ...                \n",
       "max       2.000000          2.000000              ...                \n",
       "\n",
       "            ALT 36       ALT 48  ALT after 24 w      RNA Base         RNA 4  \\\n",
       "count  1385.000000  1385.000000     1385.000000  1.385000e+03  1.385000e+03   \n",
       "mean     83.117690    83.629603       33.438267  5.909512e+05  6.008956e+05   \n",
       "std      26.399031    26.223955        7.073569  3.539354e+05  3.623151e+05   \n",
       "min       5.000000     5.000000        5.000000  1.100000e+01  5.000000e+00   \n",
       "25%      61.000000    61.000000       28.000000  2.692530e+05  2.708930e+05   \n",
       "50%      84.000000    83.000000       34.000000  5.931030e+05  5.978690e+05   \n",
       "75%     106.000000   106.000000       40.000000  8.867910e+05  9.090930e+05   \n",
       "max     128.000000   128.000000       45.000000  1.201086e+06  1.201715e+06   \n",
       "\n",
       "             RNA 12        RNA EOT         RNA EF  \\\n",
       "count  1.385000e+03    1385.000000    1385.000000   \n",
       "mean   2.887536e+05  287660.336462  291378.290975   \n",
       "std    2.853507e+05  264559.525070  267700.691713   \n",
       "min    5.000000e+00       5.000000       5.000000   \n",
       "25%    5.000000e+00       5.000000       5.000000   \n",
       "50%    2.343590e+05  251376.000000  244049.000000   \n",
       "75%    5.248190e+05  517806.000000  527864.000000   \n",
       "max    3.731527e+06  808450.000000  810333.000000   \n",
       "\n",
       "       Baseline histological Grading  Baselinehistological staging  \n",
       "count                    1385.000000                   1385.000000  \n",
       "mean                        9.761733                      2.536462  \n",
       "std                         4.023896                      1.121392  \n",
       "min                         3.000000                      1.000000  \n",
       "25%                         6.000000                      2.000000  \n",
       "50%                        10.000000                      3.000000  \n",
       "75%                        13.000000                      4.000000  \n",
       "max                        16.000000                      4.000000  \n",
       "\n",
       "[8 rows x 29 columns]"
      ]
     },
     "execution_count": 57,
     "metadata": {},
     "output_type": "execute_result"
    }
   ],
   "source": [
    "df.describe()"
   ]
  },
  {
   "cell_type": "markdown",
   "metadata": {
    "ExecuteTime": {
     "end_time": "2021-01-23T14:25:44.703751Z",
     "start_time": "2021-01-23T14:25:42.977689Z"
    }
   },
   "source": [
    "## MLPC Uygulaması\n",
    "\n",
    "\n"
   ]
  },
  {
   "cell_type": "code",
   "execution_count": 58,
   "metadata": {
    "ExecuteTime": {
     "end_time": "2021-01-27T18:29:32.885216Z",
     "start_time": "2021-01-27T18:29:32.880229Z"
    }
   },
   "outputs": [],
   "source": [
    "import numpy as np\n",
    "import pandas as pd\n"
   ]
  },
  {
   "cell_type": "code",
   "execution_count": 59,
   "metadata": {
    "ExecuteTime": {
     "end_time": "2021-01-27T18:29:33.438689Z",
     "start_time": "2021-01-27T18:29:33.425723Z"
    }
   },
   "outputs": [
    {
     "name": "stdout",
     "output_type": "stream",
     "text": [
      "   Age   Gender  BMI  Fever  Nausea/Vomting  Headache   Diarrhea   \\\n",
      "0    56       1   35      2               1          1          1   \n",
      "1    46       1   29      1               2          2          1   \n",
      "2    57       1   33      2               2          2          2   \n",
      "3    49       2   33      1               2          1          2   \n",
      "4    59       1   32      1               1          2          1   \n",
      "\n",
      "   Fatigue & generalized bone ache   Jaundice   Epigastric pain   \\\n",
      "0                                 2          2                 2   \n",
      "1                                 2          2                 1   \n",
      "2                                 1          1                 1   \n",
      "3                                 1          2                 1   \n",
      "4                                 2          2                 2   \n",
      "\n",
      "               ...               ALT 36  ALT 48  ALT after 24 w  RNA Base  \\\n",
      "0              ...                    5       5               5    655330   \n",
      "1              ...                   57     123              44     40620   \n",
      "2              ...                    5       5               5    571148   \n",
      "3              ...                   48      77              33   1041941   \n",
      "4              ...                   94      90              30    660410   \n",
      "\n",
      "    RNA 4   RNA 12  RNA EOT  RNA EF  Baseline histological Grading  \\\n",
      "0  634536   288194        5       5                             13   \n",
      "1  538635   637056   336804   31085                              4   \n",
      "2  661346        5   735945  558829                              4   \n",
      "3  449939   585688   744463  582301                             10   \n",
      "4  738756  3731527   338946  242861                             11   \n",
      "\n",
      "   Baselinehistological staging  \n",
      "0                             2  \n",
      "1                             2  \n",
      "2                             4  \n",
      "3                             3  \n",
      "4                             1  \n",
      "\n",
      "[5 rows x 29 columns]\n"
     ]
    }
   ],
   "source": [
    "print(df.head())"
   ]
  },
  {
   "cell_type": "code",
   "execution_count": 60,
   "metadata": {
    "ExecuteTime": {
     "end_time": "2021-01-27T18:29:33.916584Z",
     "start_time": "2021-01-27T18:29:33.905614Z"
    }
   },
   "outputs": [],
   "source": [
    "y=df[\"Baselinehistological staging\"].values  ## Veri seti oluşturulurken isimlendirmede boşluklar olduğu için bu şekilde \n",
    "                                             ##   kullanıldı\n",
    "\n",
    "x_data=df.drop([\"Baselinehistological staging\"],axis=1).values"
   ]
  },
  {
   "cell_type": "code",
   "execution_count": 61,
   "metadata": {
    "ExecuteTime": {
     "end_time": "2021-01-27T18:29:34.556382Z",
     "start_time": "2021-01-27T18:29:34.547406Z"
    }
   },
   "outputs": [],
   "source": [
    "x=(x_data-np.min(x_data))/(np.max(x_data)-np.min(x_data))"
   ]
  },
  {
   "cell_type": "code",
   "execution_count": 62,
   "metadata": {
    "ExecuteTime": {
     "end_time": "2021-01-27T18:34:30.543178Z",
     "start_time": "2021-01-27T18:29:35.102438Z"
    }
   },
   "outputs": [
    {
     "name": "stdout",
     "output_type": "stream",
     "text": [
      "Fitting 10 folds for each of 192 candidates, totalling 1920 fits\n"
     ]
    },
    {
     "name": "stderr",
     "output_type": "stream",
     "text": [
      "[Parallel(n_jobs=-1)]: Using backend LokyBackend with 4 concurrent workers.\n",
      "[Parallel(n_jobs=-1)]: Done  33 tasks      | elapsed:    5.9s\n",
      "[Parallel(n_jobs=-1)]: Done 154 tasks      | elapsed:   33.6s\n",
      "[Parallel(n_jobs=-1)]: Done 357 tasks      | elapsed:  1.5min\n",
      "[Parallel(n_jobs=-1)]: Done 640 tasks      | elapsed:  2.3min\n",
      "[Parallel(n_jobs=-1)]: Done 1175 tasks      | elapsed:  3.4min\n",
      "[Parallel(n_jobs=-1)]: Done 1620 tasks      | elapsed:  4.4min\n",
      "[Parallel(n_jobs=-1)]: Done 1920 out of 1920 | elapsed:  4.9min finished\n",
      "C:\\Anaconda3\\lib\\site-packages\\sklearn\\model_selection\\_search.py:841: DeprecationWarning: The default of the `iid` parameter will change from True to False in version 0.22 and will be removed in 0.24. This will change numeric results when test-set sizes are unequal.\n",
      "  DeprecationWarning)\n"
     ]
    }
   ],
   "source": [
    "from sklearn.model_selection import KFold\n",
    "from sklearn.neural_network import MLPClassifier\n",
    "from sklearn.model_selection import GridSearchCV\n",
    "from sklearn.model_selection import train_test_split\n",
    "x_train, x_test,y_train,y_test=train_test_split(x,y,test_size=0.2,random_state=1)\n",
    "\n",
    "mlpc_params={\"activation\":[\"relu\",\"logistic\",\"tanh\",\"identity\"],\n",
    "             \"alpha\":[0.1,0.01,0.001,0.0001],\n",
    "            \"hidden_layer_sizes\":[(10,10),(3,3,3),(100,100),(3,5,3)],\n",
    "            \"solver\":[\"lbfgs\",\"adam\",\"sgd\"]}\n",
    "\n",
    "mlpc=MLPClassifier(random_state=1)\n",
    "\n",
    "mlpc_cv_model=GridSearchCV(mlpc,mlpc_params,cv=10,n_jobs=-1,verbose=2).fit(x_train,y_train)\n",
    "\n",
    "\n"
   ]
  },
  {
   "cell_type": "code",
   "execution_count": 63,
   "metadata": {
    "ExecuteTime": {
     "end_time": "2021-01-27T18:36:11.672490Z",
     "start_time": "2021-01-27T18:36:11.666506Z"
    }
   },
   "outputs": [
    {
     "name": "stdout",
     "output_type": "stream",
     "text": [
      "{'activation': 'relu', 'alpha': 0.01, 'hidden_layer_sizes': (3, 5, 3), 'solver': 'lbfgs'}\n"
     ]
    }
   ],
   "source": [
    "print(mlpc_cv_model.best_params_)"
   ]
  },
  {
   "cell_type": "code",
   "execution_count": 64,
   "metadata": {
    "ExecuteTime": {
     "end_time": "2021-01-27T18:36:17.921239Z",
     "start_time": "2021-01-27T18:36:17.893317Z"
    }
   },
   "outputs": [
    {
     "name": "stdout",
     "output_type": "stream",
     "text": [
      "score: 0.24548736462093862\n"
     ]
    }
   ],
   "source": [
    "mlpc_tuned=MLPClassifier(activation=\"relu\",alpha=0.01,hidden_layer_sizes=(3,5,3),solver=\"lbfgs\").fit(x_train,y_train)\n",
    "print(\"score:\",mlpc_tuned.score(x_test,y_test))"
   ]
  },
  {
   "cell_type": "raw",
   "metadata": {},
   "source": []
  },
  {
   "cell_type": "code",
   "execution_count": 65,
   "metadata": {
    "ExecuteTime": {
     "end_time": "2021-01-27T18:36:23.320119Z",
     "start_time": "2021-01-27T18:36:20.759905Z"
    }
   },
   "outputs": [
    {
     "name": "stdout",
     "output_type": "stream",
     "text": [
      "0.2014388489208633\n",
      "0.2949640287769784\n",
      "0.19424460431654678\n",
      "0.2805755395683453\n",
      "0.20863309352517986\n",
      "0.2028985507246377\n",
      "0.21014492753623187\n",
      "0.2028985507246377\n",
      "0.2971014492753623\n",
      "0.2536231884057971\n",
      "ortalama score: 0.23465227817745804\n"
     ]
    }
   ],
   "source": [
    "from sklearn.model_selection import KFold\n",
    "from sklearn.neural_network import MLPClassifier\n",
    "\n",
    "scores=[]\n",
    "\n",
    "kf=KFold(n_splits=10,random_state=1)\n",
    "mlpc=MLPClassifier(activation=\"relu\",alpha=0.001,hidden_layer_sizes=(3,5,3),solver=\"lbfgs\")\n",
    "\n",
    "for train_indexler,test_indexler in kf.split(x):\n",
    "    mlpc.fit(x[train_indexler],y[train_indexler])\n",
    "    score=mlpc.score(x[test_indexler],y[test_indexler])\n",
    "    scores.append(score)\n",
    "    print(score)\n",
    "    \n",
    "print(\"ortalama score:\",np.mean(scores))"
   ]
  },
  {
   "cell_type": "markdown",
   "metadata": {},
   "source": [
    "## Değerlendirme"
   ]
  },
  {
   "cell_type": "code",
   "execution_count": 66,
   "metadata": {
    "ExecuteTime": {
     "end_time": "2021-01-27T18:36:27.085215Z",
     "start_time": "2021-01-27T18:36:27.080230Z"
    }
   },
   "outputs": [],
   "source": [
    "import seaborn as sns\n",
    "from sklearn.metrics import confusion_matrix, classification_report, accuracy_score"
   ]
  },
  {
   "cell_type": "code",
   "execution_count": 67,
   "metadata": {
    "ExecuteTime": {
     "end_time": "2021-01-27T18:36:28.836411Z",
     "start_time": "2021-01-27T18:36:28.827921Z"
    }
   },
   "outputs": [
    {
     "name": "stdout",
     "output_type": "stream",
     "text": [
      "0.23826714801444043\n"
     ]
    }
   ],
   "source": [
    "y_pred=mlpc.predict(x_test)\n",
    "acc=accuracy_score(y_test,y_pred)\n",
    "print(acc)"
   ]
  },
  {
   "cell_type": "code",
   "execution_count": 68,
   "metadata": {
    "ExecuteTime": {
     "end_time": "2021-01-27T18:36:30.632782Z",
     "start_time": "2021-01-27T18:36:30.620813Z"
    }
   },
   "outputs": [
    {
     "name": "stdout",
     "output_type": "stream",
     "text": [
      "              precision    recall  f1-score   support\n",
      "\n",
      "           1       0.00      0.00      0.00        71\n",
      "           2       0.22      0.59      0.32        56\n",
      "           3       0.24      0.22      0.23        82\n",
      "           4       0.29      0.22      0.25        68\n",
      "\n",
      "   micro avg       0.24      0.24      0.24       277\n",
      "   macro avg       0.19      0.26      0.20       277\n",
      "weighted avg       0.19      0.24      0.19       277\n",
      "\n"
     ]
    },
    {
     "name": "stderr",
     "output_type": "stream",
     "text": [
      "C:\\Anaconda3\\lib\\site-packages\\sklearn\\metrics\\classification.py:1143: UndefinedMetricWarning: Precision and F-score are ill-defined and being set to 0.0 in labels with no predicted samples.\n",
      "  'precision', 'predicted', average, warn_for)\n",
      "C:\\Anaconda3\\lib\\site-packages\\sklearn\\metrics\\classification.py:1143: UndefinedMetricWarning: Precision and F-score are ill-defined and being set to 0.0 in labels with no predicted samples.\n",
      "  'precision', 'predicted', average, warn_for)\n",
      "C:\\Anaconda3\\lib\\site-packages\\sklearn\\metrics\\classification.py:1143: UndefinedMetricWarning: Precision and F-score are ill-defined and being set to 0.0 in labels with no predicted samples.\n",
      "  'precision', 'predicted', average, warn_for)\n"
     ]
    }
   ],
   "source": [
    "cr=classification_report(y_test,y_pred)\n",
    "print(cr)"
   ]
  },
  {
   "cell_type": "code",
   "execution_count": 69,
   "metadata": {
    "ExecuteTime": {
     "end_time": "2021-01-27T18:36:31.727410Z",
     "start_time": "2021-01-27T18:36:31.720428Z"
    }
   },
   "outputs": [
    {
     "name": "stdout",
     "output_type": "stream",
     "text": [
      "[[ 0 34 25 12]\n",
      " [ 0 33 17  6]\n",
      " [ 0 45 18 19]\n",
      " [ 0 37 16 15]]\n"
     ]
    }
   ],
   "source": [
    "cm=confusion_matrix(y_test,y_pred)\n",
    "print(cm)\n"
   ]
  },
  {
   "cell_type": "code",
   "execution_count": 76,
   "metadata": {
    "ExecuteTime": {
     "end_time": "2021-01-27T18:40:57.547172Z",
     "start_time": "2021-01-27T18:40:57.373984Z"
    }
   },
   "outputs": [
    {
     "data": {
      "text/plain": [
       "<matplotlib.axes._subplots.AxesSubplot at 0x18519daad30>"
      ]
     },
     "execution_count": 76,
     "metadata": {},
     "output_type": "execute_result"
    },
    {
     "data": {
      "image/png": "[encoded data removed]",
      "text/plain": [
       "<Figure size 432x288 with 1 Axes>"
      ]
     },
     "metadata": {
      "needs_background": "light"
     },
     "output_type": "display_data"
    }
   ],
   "source": [
    "\n",
    "sns.heatmap(cm/cm.sum(axis=1), annot=True, cbar=False, cmap=\"Blues\",fmt=\".2\")\n"
   ]
  },
  {
   "cell_type": "code",
   "execution_count": 73,
   "metadata": {
    "ExecuteTime": {
     "end_time": "2021-01-27T18:39:12.752834Z",
     "start_time": "2021-01-27T18:39:12.737207Z"
    }
   },
   "outputs": [
    {
     "name": "stdout",
     "output_type": "stream",
     "text": [
      "f1 score: 0.1939090707454166\n"
     ]
    },
    {
     "name": "stderr",
     "output_type": "stream",
     "text": [
      "C:\\Anaconda3\\lib\\site-packages\\sklearn\\metrics\\classification.py:1143: UndefinedMetricWarning: F-score is ill-defined and being set to 0.0 in labels with no predicted samples.\n",
      "  'precision', 'predicted', average, warn_for)\n"
     ]
    }
   ],
   "source": [
    "import sklearn.metrics as metrics\n",
    "f1=metrics.f1_score(y_test,y_pred, average='weighted')\n",
    "print(\"f1 score:\",f1)"
   ]
  },
  {
   "cell_type": "markdown",
   "metadata": {},
   "source": [
    "## Keras İle Uygulama"
   ]
  },
  {
   "cell_type": "code",
   "execution_count": 16,
   "metadata": {
    "ExecuteTime": {
     "end_time": "2021-01-26T21:03:03.534200Z",
     "start_time": "2021-01-26T21:03:00.350714Z"
    }
   },
   "outputs": [
    {
     "name": "stderr",
     "output_type": "stream",
     "text": [
      "Using TensorFlow backend.\n"
     ]
    }
   ],
   "source": [
    "from keras.models import Sequential\n",
    "from keras.layers import Dense, Activation, Dropout, Flatten, Conv2D,MaxPool2D,BatchNormalization\n",
    "import matplotlib.pyplot as plt\n",
    "import numpy as np\n"
   ]
  },
  {
   "cell_type": "code",
   "execution_count": 17,
   "metadata": {
    "ExecuteTime": {
     "end_time": "2021-01-26T21:03:03.630941Z",
     "start_time": "2021-01-26T21:03:03.621963Z"
    }
   },
   "outputs": [
    {
     "name": "stdout",
     "output_type": "stream",
     "text": [
      "(1385,)\n",
      "(1385, 28)\n"
     ]
    }
   ],
   "source": [
    "y=df[\"Baselinehistological staging\"].values                         \n",
    "x_data=df.drop([\"Baselinehistological staging\"],axis=1).values\n",
    "print(y.shape)\n",
    "print(x.shape)"
   ]
  },
  {
   "cell_type": "code",
   "execution_count": 18,
   "metadata": {
    "ExecuteTime": {
     "end_time": "2021-01-26T21:03:04.633258Z",
     "start_time": "2021-01-26T21:03:04.626276Z"
    }
   },
   "outputs": [],
   "source": [
    "x_train, x_test,y_train,Y_test=train_test_split(x,y,test_size=0.2,random_state=1)"
   ]
  },
  {
   "cell_type": "code",
   "execution_count": 19,
   "metadata": {
    "ExecuteTime": {
     "end_time": "2021-01-26T21:03:05.242627Z",
     "start_time": "2021-01-26T21:03:05.237642Z"
    }
   },
   "outputs": [
    {
     "name": "stdout",
     "output_type": "stream",
     "text": [
      "(1108, 28)\n",
      "(1108,)\n"
     ]
    }
   ],
   "source": [
    "print(x_train.shape)\n",
    "print(y_train.shape)"
   ]
  },
  {
   "cell_type": "code",
   "execution_count": 20,
   "metadata": {
    "ExecuteTime": {
     "end_time": "2021-01-26T21:03:06.221011Z",
     "start_time": "2021-01-26T21:03:06.216025Z"
    }
   },
   "outputs": [],
   "source": [
    "input_shape=x_test[0].shape"
   ]
  },
  {
   "cell_type": "code",
   "execution_count": 45,
   "metadata": {
    "ExecuteTime": {
     "end_time": "2021-01-27T12:32:02.085123Z",
     "start_time": "2021-01-27T12:32:00.536555Z"
    }
   },
   "outputs": [],
   "source": [
    "model=Sequential()\n",
    "model.add(Dense(16,activation=\"relu\",input_shape=input_shape))\n",
    "model.add(BatchNormalization())\n",
    "model.add(Dropout(0.25))\n",
    "\n",
    "model.add(Dense(32,activation=\"relu\",input_shape=input_shape))\n",
    "model.add(BatchNormalization())\n",
    "model.add(Dropout(0.25))\n",
    "\n",
    "model.add(Dense(64,activation=\"relu\",input_shape=input_shape))\n",
    "model.add(BatchNormalization())\n",
    "model.add(Dropout(0.25))\n",
    "\n",
    "model.add(Dense(128,activation=\"relu\",input_shape=input_shape))\n",
    "model.add(BatchNormalization())\n",
    "model.add(Dropout(0.25))\n",
    "\n",
    "model.add(Dense(256,activation=\"relu\",input_shape=input_shape))\n",
    "model.add(BatchNormalization())\n",
    "model.add(Dropout(0.25))\n",
    "\n",
    "model.add(Dense(28,activation=\"softmax\"))"
   ]
  },
  {
   "cell_type": "code",
   "execution_count": 46,
   "metadata": {
    "ExecuteTime": {
     "end_time": "2021-01-27T12:32:04.565308Z",
     "start_time": "2021-01-27T12:32:04.473552Z"
    }
   },
   "outputs": [],
   "source": [
    "model.compile(optimizer=\"adam\",loss=\"sparse_categorical_crossentropy\",metrics=[\"accuracy\"])"
   ]
  },
  {
   "cell_type": "code",
   "execution_count": 47,
   "metadata": {
    "ExecuteTime": {
     "end_time": "2021-01-27T12:32:39.901311Z",
     "start_time": "2021-01-27T12:32:05.201856Z"
    }
   },
   "outputs": [
    {
     "name": "stdout",
     "output_type": "stream",
     "text": [
      "Train on 1108 samples, validate on 277 samples\n",
      "Epoch 1/100\n",
      "1108/1108 [==============================] - 4s - loss: 4.0776 - acc: 0.0505 - val_loss: 3.0527 - val_acc: 0.2022\n",
      "Epoch 2/100\n",
      "1108/1108 [==============================] - 0s - loss: 3.5261 - acc: 0.1327 - val_loss: 2.7144 - val_acc: 0.2022\n",
      "Epoch 3/100\n",
      "1108/1108 [==============================] - 0s - loss: 3.1071 - acc: 0.1841 - val_loss: 2.4077 - val_acc: 0.2022\n",
      "Epoch 4/100\n",
      "1108/1108 [==============================] - 0s - loss: 2.7213 - acc: 0.2076 - val_loss: 2.0296 - val_acc: 0.2058\n",
      "Epoch 5/100\n",
      "1108/1108 [==============================] - 0s - loss: 2.2820 - acc: 0.2527 - val_loss: 1.7786 - val_acc: 0.2022\n",
      "Epoch 6/100\n",
      "1108/1108 [==============================] - 0s - loss: 2.0229 - acc: 0.2554 - val_loss: 1.6476 - val_acc: 0.2022\n",
      "Epoch 7/100\n",
      "1108/1108 [==============================] - 0s - loss: 1.8478 - acc: 0.2626 - val_loss: 1.5467 - val_acc: 0.2022\n",
      "Epoch 8/100\n",
      "1108/1108 [==============================] - 0s - loss: 1.7239 - acc: 0.2771 - val_loss: 1.6268 - val_acc: 0.2022\n",
      "Epoch 9/100\n",
      "1108/1108 [==============================] - 0s - loss: 1.7236 - acc: 0.2599 - val_loss: 1.5028 - val_acc: 0.20580.2\n",
      "Epoch 10/100\n",
      "1108/1108 [==============================] - 0s - loss: 1.6624 - acc: 0.2428 - val_loss: 1.4621 - val_acc: 0.2058\n",
      "Epoch 11/100\n",
      "1108/1108 [==============================] - 0s - loss: 1.6049 - acc: 0.2608 - val_loss: 1.4756 - val_acc: 0.2094\n",
      "Epoch 12/100\n",
      "1108/1108 [==============================] - 0s - loss: 1.5712 - acc: 0.2563 - val_loss: 1.4561 - val_acc: 0.2383\n",
      "Epoch 13/100\n",
      "1108/1108 [==============================] - 0s - loss: 1.5458 - acc: 0.2662 - val_loss: 1.4237 - val_acc: 0.2708\n",
      "Epoch 14/100\n",
      "1108/1108 [==============================] - 0s - loss: 1.5181 - acc: 0.2590 - val_loss: 1.4215 - val_acc: 0.2671\n",
      "Epoch 15/100\n",
      "1108/1108 [==============================] - 0s - loss: 1.5657 - acc: 0.2653 - val_loss: 1.4204 - val_acc: 0.2455\n",
      "Epoch 16/100\n",
      "1108/1108 [==============================] - 0s - loss: 1.5277 - acc: 0.2527 - val_loss: 1.4268 - val_acc: 0.2383\n",
      "Epoch 17/100\n",
      "1108/1108 [==============================] - 0s - loss: 1.5059 - acc: 0.2563 - val_loss: 1.4330 - val_acc: 0.2310\n",
      "Epoch 18/100\n",
      "1108/1108 [==============================] - 0s - loss: 1.4880 - acc: 0.2780 - val_loss: 1.4436 - val_acc: 0.2202\n",
      "Epoch 19/100\n",
      "1108/1108 [==============================] - 0s - loss: 1.5060 - acc: 0.2419 - val_loss: 1.4276 - val_acc: 0.2238\n",
      "Epoch 20/100\n",
      "1108/1108 [==============================] - 0s - loss: 1.4703 - acc: 0.2608 - val_loss: 1.4372 - val_acc: 0.2455\n",
      "Epoch 21/100\n",
      "1108/1108 [==============================] - 0s - loss: 1.4652 - acc: 0.2572 - val_loss: 1.4281 - val_acc: 0.2094\n",
      "Epoch 22/100\n",
      "1108/1108 [==============================] - 0s - loss: 1.4804 - acc: 0.2428 - val_loss: 1.4275 - val_acc: 0.2383\n",
      "Epoch 23/100\n",
      "1108/1108 [==============================] - 0s - loss: 1.4494 - acc: 0.2726 - val_loss: 1.4302 - val_acc: 0.2383\n",
      "Epoch 24/100\n",
      "1108/1108 [==============================] - 0s - loss: 1.4361 - acc: 0.2717 - val_loss: 1.4214 - val_acc: 0.2238\n",
      "Epoch 25/100\n",
      "1108/1108 [==============================] - 0s - loss: 1.4245 - acc: 0.2726 - val_loss: 1.4210 - val_acc: 0.2310\n",
      "Epoch 26/100\n",
      "1108/1108 [==============================] - 0s - loss: 1.4329 - acc: 0.2924 - val_loss: 1.4147 - val_acc: 0.2563\n",
      "Epoch 27/100\n",
      "1108/1108 [==============================] - 0s - loss: 1.4379 - acc: 0.2572 - val_loss: 1.4052 - val_acc: 0.2744\n",
      "Epoch 28/100\n",
      "1108/1108 [==============================] - 0s - loss: 1.4321 - acc: 0.2798 - val_loss: 1.4156 - val_acc: 0.2347\n",
      "Epoch 29/100\n",
      "1108/1108 [==============================] - 0s - loss: 1.4318 - acc: 0.2717 - val_loss: 1.4089 - val_acc: 0.2419\n",
      "Epoch 30/100\n",
      "1108/1108 [==============================] - 0s - loss: 1.4168 - acc: 0.2879 - val_loss: 1.4287 - val_acc: 0.2130\n",
      "Epoch 31/100\n",
      "1108/1108 [==============================] - 0s - loss: 1.4135 - acc: 0.2798 - val_loss: 1.4194 - val_acc: 0.2202\n",
      "Epoch 32/100\n",
      "1108/1108 [==============================] - 0s - loss: 1.4132 - acc: 0.2735 - val_loss: 1.4255 - val_acc: 0.2274\n",
      "Epoch 33/100\n",
      "1108/1108 [==============================] - 0s - loss: 1.4039 - acc: 0.2735 - val_loss: 1.4240 - val_acc: 0.2347\n",
      "Epoch 34/100\n",
      "1108/1108 [==============================] - 0s - loss: 1.4187 - acc: 0.2735 - val_loss: 1.4105 - val_acc: 0.2599\n",
      "Epoch 35/100\n",
      "1108/1108 [==============================] - 0s - loss: 1.4320 - acc: 0.2464 - val_loss: 1.4042 - val_acc: 0.2635\n",
      "Epoch 36/100\n",
      "1108/1108 [==============================] - 0s - loss: 1.4206 - acc: 0.2662 - val_loss: 1.4122 - val_acc: 0.2419\n",
      "Epoch 37/100\n",
      "1108/1108 [==============================] - 0s - loss: 1.4164 - acc: 0.2572 - val_loss: 1.4117 - val_acc: 0.2202\n",
      "Epoch 38/100\n",
      "1108/1108 [==============================] - 0s - loss: 1.4127 - acc: 0.2644 - val_loss: 1.4049 - val_acc: 0.2310\n",
      "Epoch 39/100\n",
      "1108/1108 [==============================] - 0s - loss: 1.4045 - acc: 0.2708 - val_loss: 1.4081 - val_acc: 0.2383\n",
      "Epoch 40/100\n",
      "1108/1108 [==============================] - 0s - loss: 1.4115 - acc: 0.2671 - val_loss: 1.4094 - val_acc: 0.1913\n",
      "Epoch 41/100\n",
      "1108/1108 [==============================] - 0s - loss: 1.4108 - acc: 0.2780 - val_loss: 1.4042 - val_acc: 0.2527\n",
      "Epoch 42/100\n",
      "1108/1108 [==============================] - 0s - loss: 1.4133 - acc: 0.2699 - val_loss: 1.4106 - val_acc: 0.2780\n",
      "Epoch 43/100\n",
      "1108/1108 [==============================] - 0s - loss: 1.4095 - acc: 0.2789 - val_loss: 1.4077 - val_acc: 0.2347\n",
      "Epoch 44/100\n",
      "1108/1108 [==============================] - 0s - loss: 1.4034 - acc: 0.2780 - val_loss: 1.4077 - val_acc: 0.2419\n",
      "Epoch 45/100\n",
      "1108/1108 [==============================] - 0s - loss: 1.4150 - acc: 0.2572 - val_loss: 1.4091 - val_acc: 0.2022\n",
      "Epoch 46/100\n",
      "1108/1108 [==============================] - 0s - loss: 1.4007 - acc: 0.2996 - val_loss: 1.4060 - val_acc: 0.2708\n",
      "Epoch 47/100\n",
      "1108/1108 [==============================] - 0s - loss: 1.4026 - acc: 0.2699 - val_loss: 1.4077 - val_acc: 0.2274\n",
      "Epoch 48/100\n",
      "1108/1108 [==============================] - 0s - loss: 1.3953 - acc: 0.2753 - val_loss: 1.4046 - val_acc: 0.2852\n",
      "Epoch 49/100\n",
      "1108/1108 [==============================] - 0s - loss: 1.4111 - acc: 0.2671 - val_loss: 1.4100 - val_acc: 0.2238\n",
      "Epoch 50/100\n",
      "1108/1108 [==============================] - 0s - loss: 1.3884 - acc: 0.2996 - val_loss: 1.4201 - val_acc: 0.2238\n",
      "Epoch 51/100\n",
      "1108/1108 [==============================] - 0s - loss: 1.4011 - acc: 0.2789 - val_loss: 1.4213 - val_acc: 0.2455\n",
      "Epoch 52/100\n",
      "1108/1108 [==============================] - 0s - loss: 1.4025 - acc: 0.2690 - val_loss: 1.4083 - val_acc: 0.2635\n",
      "Epoch 53/100\n",
      "1108/1108 [==============================] - 0s - loss: 1.3909 - acc: 0.2834 - val_loss: 1.4107 - val_acc: 0.2347\n",
      "Epoch 54/100\n",
      "1108/1108 [==============================] - 0s - loss: 1.4071 - acc: 0.2861 - val_loss: 1.4105 - val_acc: 0.2130\n",
      "Epoch 55/100\n",
      "1108/1108 [==============================] - 0s - loss: 1.3921 - acc: 0.2681 - val_loss: 1.4116 - val_acc: 0.2347\n",
      "Epoch 56/100\n",
      "1108/1108 [==============================] - 0s - loss: 1.4070 - acc: 0.2816 - val_loss: 1.4104 - val_acc: 0.2202\n",
      "Epoch 57/100\n",
      "1108/1108 [==============================] - 0s - loss: 1.4092 - acc: 0.2762 - val_loss: 1.4080 - val_acc: 0.2094\n",
      "Epoch 58/100\n",
      "1108/1108 [==============================] - 0s - loss: 1.3925 - acc: 0.2852 - val_loss: 1.4184 - val_acc: 0.2347\n",
      "Epoch 59/100\n",
      "1108/1108 [==============================] - 0s - loss: 1.4014 - acc: 0.2617 - val_loss: 1.4122 - val_acc: 0.2022\n",
      "Epoch 60/100\n",
      "1108/1108 [==============================] - 0s - loss: 1.3935 - acc: 0.2861 - val_loss: 1.4130 - val_acc: 0.2455\n",
      "Epoch 61/100\n",
      "1108/1108 [==============================] - 0s - loss: 1.3945 - acc: 0.2816 - val_loss: 1.4261 - val_acc: 0.1733\n",
      "Epoch 62/100\n",
      "1108/1108 [==============================] - 0s - loss: 1.3859 - acc: 0.2960 - val_loss: 1.4316 - val_acc: 0.2202\n",
      "Epoch 63/100\n",
      "1108/1108 [==============================] - 0s - loss: 1.3953 - acc: 0.2825 - val_loss: 1.4112 - val_acc: 0.2347\n",
      "Epoch 64/100\n",
      "1108/1108 [==============================] - 0s - loss: 1.3900 - acc: 0.2897 - val_loss: 1.4191 - val_acc: 0.2419\n",
      "Epoch 65/100\n",
      "1108/1108 [==============================] - 0s - loss: 1.3873 - acc: 0.2969 - val_loss: 1.4056 - val_acc: 0.2383\n",
      "Epoch 66/100\n",
      "1108/1108 [==============================] - 0s - loss: 1.3972 - acc: 0.2545 - val_loss: 1.4189 - val_acc: 0.2419\n",
      "Epoch 67/100\n",
      "1108/1108 [==============================] - 0s - loss: 1.3948 - acc: 0.2735 - val_loss: 1.4108 - val_acc: 0.2419\n",
      "Epoch 68/100\n",
      "1108/1108 [==============================] - 0s - loss: 1.4050 - acc: 0.2509 - val_loss: 1.4114 - val_acc: 0.2166\n",
      "Epoch 69/100\n",
      "1108/1108 [==============================] - 0s - loss: 1.4083 - acc: 0.2608 - val_loss: 1.4084 - val_acc: 0.2202\n",
      "Epoch 70/100\n",
      "1108/1108 [==============================] - 0s - loss: 1.3934 - acc: 0.2807 - val_loss: 1.4309 - val_acc: 0.2130\n",
      "Epoch 71/100\n",
      "1108/1108 [==============================] - 0s - loss: 1.3951 - acc: 0.2671 - val_loss: 1.4242 - val_acc: 0.2238\n",
      "Epoch 72/100\n",
      "1108/1108 [==============================] - 0s - loss: 1.3970 - acc: 0.2545 - val_loss: 1.4051 - val_acc: 0.2671\n",
      "Epoch 73/100\n",
      "1108/1108 [==============================] - 0s - loss: 1.3910 - acc: 0.2717 - val_loss: 1.4076 - val_acc: 0.2491\n",
      "Epoch 74/100\n",
      "1108/1108 [==============================] - 0s - loss: 1.3944 - acc: 0.2780 - val_loss: 1.4180 - val_acc: 0.2310\n",
      "Epoch 75/100\n",
      "1108/1108 [==============================] - 0s - loss: 1.3902 - acc: 0.2699 - val_loss: 1.4307 - val_acc: 0.1877\n",
      "Epoch 76/100\n",
      "1108/1108 [==============================] - 0s - loss: 1.3879 - acc: 0.2744 - val_loss: 1.4255 - val_acc: 0.2274\n",
      "Epoch 77/100\n",
      "1108/1108 [==============================] - 0s - loss: 1.3970 - acc: 0.2753 - val_loss: 1.4148 - val_acc: 0.2166\n",
      "Epoch 78/100\n",
      "1108/1108 [==============================] - 0s - loss: 1.4045 - acc: 0.2708 - val_loss: 1.4233 - val_acc: 0.2202\n",
      "Epoch 79/100\n",
      "1108/1108 [==============================] - 0s - loss: 1.3855 - acc: 0.2906 - val_loss: 1.4237 - val_acc: 0.2166\n",
      "Epoch 80/100\n",
      "1108/1108 [==============================] - 0s - loss: 1.3867 - acc: 0.3005 - val_loss: 1.4051 - val_acc: 0.2383\n",
      "Epoch 81/100\n",
      "1108/1108 [==============================] - 0s - loss: 1.3975 - acc: 0.2662 - val_loss: 1.4097 - val_acc: 0.2347\n",
      "Epoch 82/100\n",
      "1108/1108 [==============================] - 0s - loss: 1.3900 - acc: 0.2780 - val_loss: 1.4118 - val_acc: 0.2310\n",
      "Epoch 83/100\n",
      "1108/1108 [==============================] - 0s - loss: 1.3888 - acc: 0.2798 - val_loss: 1.4158 - val_acc: 0.2527\n",
      "Epoch 84/100\n",
      "1108/1108 [==============================] - 0s - loss: 1.3913 - acc: 0.2897 - val_loss: 1.4170 - val_acc: 0.2310\n",
      "Epoch 85/100\n",
      "1108/1108 [==============================] - 0s - loss: 1.3917 - acc: 0.2897 - val_loss: 1.4182 - val_acc: 0.2491\n",
      "Epoch 86/100\n",
      "1108/1108 [==============================] - 0s - loss: 1.4064 - acc: 0.2780 - val_loss: 1.4081 - val_acc: 0.2635\n",
      "Epoch 87/100\n",
      "1108/1108 [==============================] - 0s - loss: 1.3930 - acc: 0.2771 - val_loss: 1.4171 - val_acc: 0.2383\n",
      "Epoch 88/100\n",
      "1108/1108 [==============================] - 0s - loss: 1.3941 - acc: 0.2807 - val_loss: 1.4067 - val_acc: 0.2599\n",
      "Epoch 89/100\n",
      "1108/1108 [==============================] - 0s - loss: 1.3973 - acc: 0.2879 - val_loss: 1.4174 - val_acc: 0.2383\n",
      "Epoch 90/100\n",
      "1108/1108 [==============================] - 0s - loss: 1.3833 - acc: 0.3032 - val_loss: 1.4204 - val_acc: 0.2383\n",
      "Epoch 91/100\n",
      "1108/1108 [==============================] - 0s - loss: 1.3889 - acc: 0.2807 - val_loss: 1.4245 - val_acc: 0.2274\n",
      "Epoch 92/100\n",
      "1108/1108 [==============================] - 0s - loss: 1.3861 - acc: 0.2915 - val_loss: 1.4289 - val_acc: 0.2022\n",
      "Epoch 93/100\n",
      "1108/1108 [==============================] - 0s - loss: 1.3834 - acc: 0.2951 - val_loss: 1.4282 - val_acc: 0.2491\n",
      "Epoch 94/100\n",
      "1108/1108 [==============================] - 0s - loss: 1.4007 - acc: 0.2942 - val_loss: 1.4195 - val_acc: 0.2238\n",
      "Epoch 95/100\n",
      "1108/1108 [==============================] - 0s - loss: 1.3962 - acc: 0.2690 - val_loss: 1.4203 - val_acc: 0.2419\n",
      "Epoch 96/100\n",
      "1108/1108 [==============================] - 0s - loss: 1.3948 - acc: 0.2653 - val_loss: 1.4130 - val_acc: 0.2419\n",
      "Epoch 97/100\n",
      "1108/1108 [==============================] - 0s - loss: 1.3938 - acc: 0.2942 - val_loss: 1.4033 - val_acc: 0.2491\n",
      "Epoch 98/100\n",
      "1108/1108 [==============================] - 0s - loss: 1.3979 - acc: 0.2735 - val_loss: 1.4016 - val_acc: 0.2599\n",
      "Epoch 99/100\n",
      "1108/1108 [==============================] - 0s - loss: 1.3882 - acc: 0.2816 - val_loss: 1.4069 - val_acc: 0.2419\n",
      "Epoch 100/100\n",
      "1108/1108 [==============================] - 0s - loss: 1.3969 - acc: 0.2780 - val_loss: 1.4094 - val_acc: 0.2527\n"
     ]
    }
   ],
   "source": [
    "egitim=model.fit(x_train,y_train,epochs=100,validation_data=(x_test,y_test))"
   ]
  },
  {
   "cell_type": "code",
   "execution_count": 48,
   "metadata": {
    "ExecuteTime": {
     "end_time": "2021-01-27T17:57:47.454470Z",
     "start_time": "2021-01-27T17:57:47.170210Z"
    }
   },
   "outputs": [
    {
     "data": {
      "image/png": "[encoded data removed]",
      "text/plain": [
       "<Figure size 432x288 with 1 Axes>"
      ]
     },
     "metadata": {
      "needs_background": "light"
     },
     "output_type": "display_data"
    }
   ],
   "source": [
    "plt.plot(egitim.history[\"acc\"])\n",
    "plt.plot(egitim.history[\"val_acc\"])\n",
    "plt.show()"
   ]
  },
  {
   "cell_type": "code",
   "execution_count": 50,
   "metadata": {
    "ExecuteTime": {
     "end_time": "2021-01-27T18:16:41.136900Z",
     "start_time": "2021-01-27T18:16:41.065092Z"
    }
   },
   "outputs": [
    {
     "ename": "TypeError",
     "evalue": "Singleton array 3 cannot be considered a valid collection.",
     "output_type": "error",
     "traceback": [
      "\u001b[1;31m---------------------------------------------------------------------------\u001b[0m",
      "\u001b[1;31mTypeError\u001b[0m                                 Traceback (most recent call last)",
      "\u001b[1;32m<ipython-input-50-dfec56bdf4a1>\u001b[0m in \u001b[0;36m<module>\u001b[1;34m\u001b[0m\n\u001b[0;32m      4\u001b[0m \u001b[0my_pred\u001b[0m\u001b[1;33m=\u001b[0m\u001b[0mnp\u001b[0m\u001b[1;33m.\u001b[0m\u001b[0margmax\u001b[0m\u001b[1;33m(\u001b[0m\u001b[0my_pred\u001b[0m\u001b[1;33m)\u001b[0m\u001b[1;33m\u001b[0m\u001b[1;33m\u001b[0m\u001b[0m\n\u001b[0;32m      5\u001b[0m \u001b[0my_true\u001b[0m\u001b[1;33m=\u001b[0m\u001b[0mnp\u001b[0m\u001b[1;33m.\u001b[0m\u001b[0margmax\u001b[0m\u001b[1;33m(\u001b[0m\u001b[0my_test\u001b[0m\u001b[1;33m)\u001b[0m\u001b[1;33m\u001b[0m\u001b[1;33m\u001b[0m\u001b[0m\n\u001b[1;32m----> 6\u001b[1;33m \u001b[0mcm\u001b[0m\u001b[1;33m=\u001b[0m\u001b[0mmetrics\u001b[0m\u001b[1;33m.\u001b[0m\u001b[0mconfusion_matrix\u001b[0m\u001b[1;33m(\u001b[0m\u001b[0my_true\u001b[0m\u001b[1;33m,\u001b[0m\u001b[0my_pred\u001b[0m\u001b[1;33m)\u001b[0m\u001b[1;33m\u001b[0m\u001b[1;33m\u001b[0m\u001b[0m\n\u001b[0m\u001b[0;32m      7\u001b[0m \u001b[0mprint\u001b[0m\u001b[1;33m(\u001b[0m\u001b[0mcm\u001b[0m\u001b[1;33m)\u001b[0m\u001b[1;33m\u001b[0m\u001b[1;33m\u001b[0m\u001b[0m\n",
      "\u001b[1;32mC:\\Anaconda3\\lib\\site-packages\\sklearn\\metrics\\classification.py\u001b[0m in \u001b[0;36mconfusion_matrix\u001b[1;34m(y_true, y_pred, labels, sample_weight)\u001b[0m\n\u001b[0;32m    251\u001b[0m \u001b[1;33m\u001b[0m\u001b[0m\n\u001b[0;32m    252\u001b[0m     \"\"\"\n\u001b[1;32m--> 253\u001b[1;33m     \u001b[0my_type\u001b[0m\u001b[1;33m,\u001b[0m \u001b[0my_true\u001b[0m\u001b[1;33m,\u001b[0m \u001b[0my_pred\u001b[0m \u001b[1;33m=\u001b[0m \u001b[0m_check_targets\u001b[0m\u001b[1;33m(\u001b[0m\u001b[0my_true\u001b[0m\u001b[1;33m,\u001b[0m \u001b[0my_pred\u001b[0m\u001b[1;33m)\u001b[0m\u001b[1;33m\u001b[0m\u001b[1;33m\u001b[0m\u001b[0m\n\u001b[0m\u001b[0;32m    254\u001b[0m     \u001b[1;32mif\u001b[0m \u001b[0my_type\u001b[0m \u001b[1;32mnot\u001b[0m \u001b[1;32min\u001b[0m \u001b[1;33m(\u001b[0m\u001b[1;34m\"binary\"\u001b[0m\u001b[1;33m,\u001b[0m \u001b[1;34m\"multiclass\"\u001b[0m\u001b[1;33m)\u001b[0m\u001b[1;33m:\u001b[0m\u001b[1;33m\u001b[0m\u001b[1;33m\u001b[0m\u001b[0m\n\u001b[0;32m    255\u001b[0m         \u001b[1;32mraise\u001b[0m \u001b[0mValueError\u001b[0m\u001b[1;33m(\u001b[0m\u001b[1;34m\"%s is not supported\"\u001b[0m \u001b[1;33m%\u001b[0m \u001b[0my_type\u001b[0m\u001b[1;33m)\u001b[0m\u001b[1;33m\u001b[0m\u001b[1;33m\u001b[0m\u001b[0m\n",
      "\u001b[1;32mC:\\Anaconda3\\lib\\site-packages\\sklearn\\metrics\\classification.py\u001b[0m in \u001b[0;36m_check_targets\u001b[1;34m(y_true, y_pred)\u001b[0m\n\u001b[0;32m     69\u001b[0m     \u001b[0my_pred\u001b[0m \u001b[1;33m:\u001b[0m \u001b[0marray\u001b[0m \u001b[1;32mor\u001b[0m \u001b[0mindicator\u001b[0m \u001b[0mmatrix\u001b[0m\u001b[1;33m\u001b[0m\u001b[1;33m\u001b[0m\u001b[0m\n\u001b[0;32m     70\u001b[0m     \"\"\"\n\u001b[1;32m---> 71\u001b[1;33m     \u001b[0mcheck_consistent_length\u001b[0m\u001b[1;33m(\u001b[0m\u001b[0my_true\u001b[0m\u001b[1;33m,\u001b[0m \u001b[0my_pred\u001b[0m\u001b[1;33m)\u001b[0m\u001b[1;33m\u001b[0m\u001b[1;33m\u001b[0m\u001b[0m\n\u001b[0m\u001b[0;32m     72\u001b[0m     \u001b[0mtype_true\u001b[0m \u001b[1;33m=\u001b[0m \u001b[0mtype_of_target\u001b[0m\u001b[1;33m(\u001b[0m\u001b[0my_true\u001b[0m\u001b[1;33m)\u001b[0m\u001b[1;33m\u001b[0m\u001b[1;33m\u001b[0m\u001b[0m\n\u001b[0;32m     73\u001b[0m     \u001b[0mtype_pred\u001b[0m \u001b[1;33m=\u001b[0m \u001b[0mtype_of_target\u001b[0m\u001b[1;33m(\u001b[0m\u001b[0my_pred\u001b[0m\u001b[1;33m)\u001b[0m\u001b[1;33m\u001b[0m\u001b[1;33m\u001b[0m\u001b[0m\n",
      "\u001b[1;32mC:\\Anaconda3\\lib\\site-packages\\sklearn\\utils\\validation.py\u001b[0m in \u001b[0;36mcheck_consistent_length\u001b[1;34m(*arrays)\u001b[0m\n\u001b[0;32m    229\u001b[0m     \"\"\"\n\u001b[0;32m    230\u001b[0m \u001b[1;33m\u001b[0m\u001b[0m\n\u001b[1;32m--> 231\u001b[1;33m     \u001b[0mlengths\u001b[0m \u001b[1;33m=\u001b[0m \u001b[1;33m[\u001b[0m\u001b[0m_num_samples\u001b[0m\u001b[1;33m(\u001b[0m\u001b[0mX\u001b[0m\u001b[1;33m)\u001b[0m \u001b[1;32mfor\u001b[0m \u001b[0mX\u001b[0m \u001b[1;32min\u001b[0m \u001b[0marrays\u001b[0m \u001b[1;32mif\u001b[0m \u001b[0mX\u001b[0m \u001b[1;32mis\u001b[0m \u001b[1;32mnot\u001b[0m \u001b[1;32mNone\u001b[0m\u001b[1;33m]\u001b[0m\u001b[1;33m\u001b[0m\u001b[1;33m\u001b[0m\u001b[0m\n\u001b[0m\u001b[0;32m    232\u001b[0m     \u001b[0muniques\u001b[0m \u001b[1;33m=\u001b[0m \u001b[0mnp\u001b[0m\u001b[1;33m.\u001b[0m\u001b[0munique\u001b[0m\u001b[1;33m(\u001b[0m\u001b[0mlengths\u001b[0m\u001b[1;33m)\u001b[0m\u001b[1;33m\u001b[0m\u001b[1;33m\u001b[0m\u001b[0m\n\u001b[0;32m    233\u001b[0m     \u001b[1;32mif\u001b[0m \u001b[0mlen\u001b[0m\u001b[1;33m(\u001b[0m\u001b[0muniques\u001b[0m\u001b[1;33m)\u001b[0m \u001b[1;33m>\u001b[0m \u001b[1;36m1\u001b[0m\u001b[1;33m:\u001b[0m\u001b[1;33m\u001b[0m\u001b[1;33m\u001b[0m\u001b[0m\n",
      "\u001b[1;32mC:\\Anaconda3\\lib\\site-packages\\sklearn\\utils\\validation.py\u001b[0m in \u001b[0;36m<listcomp>\u001b[1;34m(.0)\u001b[0m\n\u001b[0;32m    229\u001b[0m     \"\"\"\n\u001b[0;32m    230\u001b[0m \u001b[1;33m\u001b[0m\u001b[0m\n\u001b[1;32m--> 231\u001b[1;33m     \u001b[0mlengths\u001b[0m \u001b[1;33m=\u001b[0m \u001b[1;33m[\u001b[0m\u001b[0m_num_samples\u001b[0m\u001b[1;33m(\u001b[0m\u001b[0mX\u001b[0m\u001b[1;33m)\u001b[0m \u001b[1;32mfor\u001b[0m \u001b[0mX\u001b[0m \u001b[1;32min\u001b[0m \u001b[0marrays\u001b[0m \u001b[1;32mif\u001b[0m \u001b[0mX\u001b[0m \u001b[1;32mis\u001b[0m \u001b[1;32mnot\u001b[0m \u001b[1;32mNone\u001b[0m\u001b[1;33m]\u001b[0m\u001b[1;33m\u001b[0m\u001b[1;33m\u001b[0m\u001b[0m\n\u001b[0m\u001b[0;32m    232\u001b[0m     \u001b[0muniques\u001b[0m \u001b[1;33m=\u001b[0m \u001b[0mnp\u001b[0m\u001b[1;33m.\u001b[0m\u001b[0munique\u001b[0m\u001b[1;33m(\u001b[0m\u001b[0mlengths\u001b[0m\u001b[1;33m)\u001b[0m\u001b[1;33m\u001b[0m\u001b[1;33m\u001b[0m\u001b[0m\n\u001b[0;32m    233\u001b[0m     \u001b[1;32mif\u001b[0m \u001b[0mlen\u001b[0m\u001b[1;33m(\u001b[0m\u001b[0muniques\u001b[0m\u001b[1;33m)\u001b[0m \u001b[1;33m>\u001b[0m \u001b[1;36m1\u001b[0m\u001b[1;33m:\u001b[0m\u001b[1;33m\u001b[0m\u001b[1;33m\u001b[0m\u001b[0m\n",
      "\u001b[1;32mC:\\Anaconda3\\lib\\site-packages\\sklearn\\utils\\validation.py\u001b[0m in \u001b[0;36m_num_samples\u001b[1;34m(x)\u001b[0m\n\u001b[0;32m    140\u001b[0m         \u001b[1;32mif\u001b[0m \u001b[0mlen\u001b[0m\u001b[1;33m(\u001b[0m\u001b[0mx\u001b[0m\u001b[1;33m.\u001b[0m\u001b[0mshape\u001b[0m\u001b[1;33m)\u001b[0m \u001b[1;33m==\u001b[0m \u001b[1;36m0\u001b[0m\u001b[1;33m:\u001b[0m\u001b[1;33m\u001b[0m\u001b[1;33m\u001b[0m\u001b[0m\n\u001b[0;32m    141\u001b[0m             raise TypeError(\"Singleton array %r cannot be considered\"\n\u001b[1;32m--> 142\u001b[1;33m                             \" a valid collection.\" % x)\n\u001b[0m\u001b[0;32m    143\u001b[0m         \u001b[1;31m# Check that shape is returning an integer or default to len\u001b[0m\u001b[1;33m\u001b[0m\u001b[1;33m\u001b[0m\u001b[1;33m\u001b[0m\u001b[0m\n\u001b[0;32m    144\u001b[0m         \u001b[1;31m# Dask dataframes may not return numeric shape[0] value\u001b[0m\u001b[1;33m\u001b[0m\u001b[1;33m\u001b[0m\u001b[1;33m\u001b[0m\u001b[0m\n",
      "\u001b[1;31mTypeError\u001b[0m: Singleton array 3 cannot be considered a valid collection."
     ]
    }
   ],
   "source": [
    "import sklearn.metrics as metrics\n",
    "\n",
    "y_pred=model.predict(x_test)\n",
    "y_pred=np.argmax(y_pred)\n",
    "y_true=np.argmax(y_test)\n",
    "cm=metrics.confusion_matrix(y_true,y_pred)\n",
    "print(cm)"
   ]
  },
  {
   "cell_type": "code",
   "execution_count": null,
   "metadata": {},
   "outputs": [],
   "source": []
  }
 ],
 "metadata": {
  "kernelspec": {
   "display_name": "Python 3",
   "language": "python",
   "name": "python3"
  },
  "language_info": {
   "codemirror_mode": {
    "name": "ipython",
    "version": 3
   },
   "file_extension": ".py",
   "mimetype": "text/x-python",
   "name": "python",
   "nbconvert_exporter": "python",
   "pygments_lexer": "ipython3",
   "version": "3.7.1"
  },
  "toc": {
   "base_numbering": 1,
   "nav_menu": {},
   "number_sections": true,
   "sideBar": true,
   "skip_h1_title": false,
   "title_cell": "Table of Contents",
   "title_sidebar": "Contents",
   "toc_cell": false,
   "toc_position": {
    "height": "calc(100% - 180px)",
    "left": "10px",
    "top": "150px",
    "width": "207.717px"
   },
   "toc_section_display": true,
   "toc_window_display": true
  },
  "varInspector": {
   "cols": {
    "lenName": 16,
    "lenType": 16,
    "lenVar": 40
   },
   "kernels_config": {
    "python": {
     "delete_cmd_postfix": "",
     "delete_cmd_prefix": "del ",
     "library": "var_list.py",
     "varRefreshCmd": "print(var_dic_list())"
    },
    "r": {
     "delete_cmd_postfix": ") ",
     "delete_cmd_prefix": "rm(",
     "library": "var_list.r",
     "varRefreshCmd": "cat(var_dic_list()) "
    }
   },
   "types_to_exclude": [
    "module",
    "function",
    "builtin_function_or_method",
    "instance",
    "_Feature"
   ],
   "window_display": false
  }
 },
 "nbformat": 4,
 "nbformat_minor": 2
}
